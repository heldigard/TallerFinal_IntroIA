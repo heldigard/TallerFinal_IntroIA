{
 "cells": [
  {
   "cell_type": "code",
   "id": "initial_id",
   "metadata": {
    "collapsed": true,
    "ExecuteTime": {
     "end_time": "2024-04-20T16:22:15.132716Z",
     "start_time": "2024-04-20T16:22:15.124020Z"
    }
   },
   "source": "#!pip install scikit-fuzzy",
   "outputs": [],
   "execution_count": 1
  },
  {
   "metadata": {
    "ExecuteTime": {
     "end_time": "2024-04-20T16:22:15.159020Z",
     "start_time": "2024-04-20T16:22:15.132716Z"
    }
   },
   "cell_type": "code",
   "source": "#!pip install setuptools",
   "id": "17b4f28a5a430bd2",
   "outputs": [],
   "execution_count": 2
  },
  {
   "metadata": {
    "ExecuteTime": {
     "end_time": "2024-04-20T16:22:15.819885Z",
     "start_time": "2024-04-20T16:22:15.161014Z"
    }
   },
   "cell_type": "code",
   "source": [
    "import numpy as np\n",
    "import skfuzzy as fuzz\n",
    "from skfuzzy import control as ctrl"
   ],
   "id": "1349e3098d1879ce",
   "outputs": [
    {
     "name": "stderr",
     "output_type": "stream",
     "text": [
      "C:\\Users\\Kelly\\PycharmProjects\\TallerFinal_IntroIA\\.venv\\Lib\\site-packages\\skfuzzy\\__init__.py:91: SyntaxWarning: invalid escape sequence '\\.'\n",
      "  args.extend(['--with-doctest', '--ignore-files=^\\.',\n",
      "C:\\Users\\Kelly\\PycharmProjects\\TallerFinal_IntroIA\\.venv\\Lib\\site-packages\\skfuzzy\\__init__.py:92: SyntaxWarning: invalid escape sequence '\\.'\n",
      "  '--ignore-files=^setup\\.py$$', '--ignore-files=test'])\n"
     ]
    },
    {
     "ename": "ModuleNotFoundError",
     "evalue": "No module named 'imp'",
     "output_type": "error",
     "traceback": [
      "\u001B[1;31m---------------------------------------------------------------------------\u001B[0m",
      "\u001B[1;31mModuleNotFoundError\u001B[0m                       Traceback (most recent call last)",
      "Cell \u001B[1;32mIn[3], line 2\u001B[0m\n\u001B[0;32m      1\u001B[0m \u001B[38;5;28;01mimport\u001B[39;00m \u001B[38;5;21;01mnumpy\u001B[39;00m \u001B[38;5;28;01mas\u001B[39;00m \u001B[38;5;21;01mnp\u001B[39;00m\n\u001B[1;32m----> 2\u001B[0m \u001B[38;5;28;01mimport\u001B[39;00m \u001B[38;5;21;01mskfuzzy\u001B[39;00m \u001B[38;5;28;01mas\u001B[39;00m \u001B[38;5;21;01mfuzz\u001B[39;00m\n\u001B[0;32m      3\u001B[0m \u001B[38;5;28;01mfrom\u001B[39;00m \u001B[38;5;21;01mskfuzzy\u001B[39;00m \u001B[38;5;28;01mimport\u001B[39;00m control \u001B[38;5;28;01mas\u001B[39;00m ctrl\n",
      "File \u001B[1;32m~\\PycharmProjects\\TallerFinal_IntroIA\\.venv\\Lib\\site-packages\\skfuzzy\\__init__.py:65\u001B[0m\n\u001B[0;32m     58\u001B[0m \u001B[38;5;66;03m# Fuzzy control system subpackage\u001B[39;00m\n\u001B[0;32m     59\u001B[0m \u001B[38;5;66;03m# import skfuzzy.control as _control\u001B[39;00m\n\u001B[0;32m     60\u001B[0m \u001B[38;5;66;03m# from skfuzzy.control import *\u001B[39;00m\n\u001B[0;32m     61\u001B[0m \u001B[38;5;66;03m# __all__.extend(_control.__all__)\u001B[39;00m\n\u001B[0;32m     62\u001B[0m \n\u001B[0;32m     63\u001B[0m \u001B[38;5;66;03m# Enable testing of the package\u001B[39;00m\n\u001B[0;32m     64\u001B[0m \u001B[38;5;28;01mimport\u001B[39;00m \u001B[38;5;21;01mos\u001B[39;00m\u001B[38;5;21;01m.\u001B[39;00m\u001B[38;5;21;01mpath\u001B[39;00m \u001B[38;5;28;01mas\u001B[39;00m \u001B[38;5;21;01mosp\u001B[39;00m\n\u001B[1;32m---> 65\u001B[0m \u001B[38;5;28;01mimport\u001B[39;00m \u001B[38;5;21;01mimp\u001B[39;00m\n\u001B[0;32m     66\u001B[0m \u001B[38;5;28;01mimport\u001B[39;00m \u001B[38;5;21;01mfunctools\u001B[39;00m\n\u001B[0;32m     67\u001B[0m \u001B[38;5;28;01mimport\u001B[39;00m \u001B[38;5;21;01mwarnings\u001B[39;00m\n",
      "\u001B[1;31mModuleNotFoundError\u001B[0m: No module named 'imp'"
     ]
    }
   ],
   "execution_count": 3
  },
  {
   "metadata": {
    "ExecuteTime": {
     "end_time": "2024-04-20T16:22:15.828308Z",
     "start_time": "2024-04-20T16:22:15.828308Z"
    }
   },
   "cell_type": "code",
   "source": [
    "cantidad_reparaciones = ctrl.Antecedent([2,5,6,8,10,11,13,15,18,20], 'cantidad_reparaciones')\n",
    "monto_reparaciones = ctrl.Antecedent([750,1235,2427,3625,4500,6800,8105,12300,20125,35250], 'monto_reparaciones')\n",
    "calificacion = ctrl.Antecedent([15,19,23,42,55,59,63,72,81,85], 'calificacion')\n",
    "\n",
    "cantidad_reparaciones.universe"
   ],
   "id": "1686f40a8dbf80",
   "outputs": [],
   "execution_count": null
  }
 ],
 "metadata": {
  "kernelspec": {
   "display_name": "Python 3",
   "language": "python",
   "name": "python3"
  },
  "language_info": {
   "codemirror_mode": {
    "name": "ipython",
    "version": 2
   },
   "file_extension": ".py",
   "mimetype": "text/x-python",
   "name": "python",
   "nbconvert_exporter": "python",
   "pygments_lexer": "ipython2",
   "version": "2.7.6"
  }
 },
 "nbformat": 4,
 "nbformat_minor": 5
}

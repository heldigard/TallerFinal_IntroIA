{
 "cells": [
  {
   "metadata": {
    "ExecuteTime": {
     "end_time": "2024-05-06T21:09:45.548503Z",
     "start_time": "2024-05-06T21:09:45.487482Z"
    }
   },
   "cell_type": "code",
   "source": [
    "from Transportadora import Transportadora\n",
    "import random\n",
    "import numpy as np\n"
   ],
   "id": "9a41e9b872838716",
   "outputs": [],
   "execution_count": 1
  },
  {
   "metadata": {
    "ExecuteTime": {
     "end_time": "2024-05-06T21:09:45.551790Z",
     "start_time": "2024-05-06T21:09:45.549507Z"
    }
   },
   "cell_type": "code",
   "source": "tp = Transportadora()",
   "id": "7257110a70f1651c",
   "outputs": [],
   "execution_count": 2
  },
  {
   "metadata": {},
   "cell_type": "markdown",
   "source": [
    "a. Obtenga cuál es la relación de tiendas utilizando un algoritmo genético con una población inicial de 100 individuos y 50 generaciones. <br>\n",
    "<ul>\n",
    "<li>i. Haga una selección por torneo.</li>\n",
    "<li>ii. Ejecute un cruce de un punto.</li>\n",
    "<li>iii. Genere una mutación de un bit.</li>\n",
    "</ul>"
   ],
   "id": "2dafefb3d1715b86"
  },
  {
   "cell_type": "code",
   "id": "initial_id",
   "metadata": {
    "collapsed": true,
    "ExecuteTime": {
     "end_time": "2024-05-06T21:09:45.582732Z",
     "start_time": "2024-05-06T21:09:45.551790Z"
    }
   },
   "source": [
    "# Generación de la población inicial\n",
    "poblacion = [[random.randint(0, 1) for _ in range(5)] for _ in range(100)]\n",
    "\n",
    "# Algoritmo genético\n",
    "for generacion in range(50):\n",
    "    # Evaluación de la población\n",
    "    fitness = [tp.utilidad(individuo) for individuo in poblacion]\n",
    "\n",
    "    # Selección por torneo\n",
    "    seleccionados = []\n",
    "    for _ in range(len(poblacion)):\n",
    "        competidores = random.sample(poblacion, 3)\n",
    "        ganador = max(competidores, key=tp.utilidad)\n",
    "        seleccionados.append(ganador)\n",
    "\n",
    "    # Cruce de un punto\n",
    "    descendencia = []\n",
    "    for _ in range(len(poblacion) // 2):\n",
    "        padre1 = random.choice(seleccionados)\n",
    "        padre2 = random.choice(seleccionados)\n",
    "        punto_cruce = random.randint(1, len(padre1) - 1)\n",
    "        hijo1 = padre1[:punto_cruce] + padre2[punto_cruce:]\n",
    "        hijo2 = padre2[:punto_cruce] + padre1[punto_cruce:]\n",
    "        descendencia.extend([hijo1, hijo2])\n",
    "\n",
    "    # Mutación de un bit\n",
    "    for individuo in descendencia:\n",
    "        if random.random() < 0.01:\n",
    "            bit_a_mutar = random.randint(0, len(individuo) - 1)\n",
    "            individuo[bit_a_mutar] = 1 - individuo[bit_a_mutar]\n",
    "\n",
    "    # Actualización de la población\n",
    "    poblacion = descendencia\n",
    "\n",
    "# Mejor solución\n",
    "mejor_solucion = max(poblacion, key=tp.utilidad)\n",
    "print(f\"La mejor solución es: {mejor_solucion} con una utilidad de: {tp.utilidad(mejor_solucion)}\")"
   ],
   "outputs": [
    {
     "name": "stdout",
     "output_type": "stream",
     "text": [
      "La mejor solución es: [0, 1, 1, 0, 1] con una utilidad de: 82750000\n"
     ]
    }
   ],
   "execution_count": 3
  },
  {
   "metadata": {},
   "cell_type": "markdown",
   "source": [
    "la solucion: <code>[0, 1, 1, 0, 1]</code><br>\n",
    "significa que las tiendas 2, 3 y 5 fueron seleccionadas para el transporte de mercancía,<br>\n",
    "mientras que las tiendas 1 y 4 no fueron seleccionadas.\n",
    "La utilidad es siempre: 82750000"
   ],
   "id": "d09adce5180f3872"
  },
  {
   "metadata": {},
   "cell_type": "markdown",
   "source": [
    "b. Obtenga cuál es la relación de tiendas utilizando un algoritmo evolutivo con una población inicial de 50 individuos y 20 generaciones.<br>\n",
    "<ul>\n",
    "<li>i. Construya los genes mediante una selección uniforme para la distancia entre 300 y 1500 km.</li>\n",
    "<li>ii. Haga una selección por torneo.</li>\n",
    "<li>iii. Ejecute un cruce uniforme con probabilidad de cruce del 50%.</li>\n",
    "<li>iv. Genere una mutación uniforme entre 500 y 1000 con una probabilidad de mutación del 10%.</li>\n",
    "</ul>"
   ],
   "id": "b8f5aec585cfc4b"
  },
  {
   "metadata": {
    "ExecuteTime": {
     "end_time": "2024-05-06T21:09:45.593350Z",
     "start_time": "2024-05-06T21:09:45.582732Z"
    }
   },
   "cell_type": "code",
   "source": [
    "# Generación de la población inicial\n",
    "poblacion = [[random.randint(0, 1) for _ in range(5)] for _ in range(50)]\n",
    "\n",
    "# Algoritmo evolutivo\n",
    "for generacion in range(20):\n",
    "    # Evaluación de la población\n",
    "    fitness = [tp.utilidad(individuo) for individuo in poblacion]\n",
    "    \n",
    "    # Selección por torneo\n",
    "    seleccionados = []\n",
    "    for _ in range(len(poblacion)):\n",
    "        competidores = random.sample(poblacion, 3)\n",
    "        ganador = max(competidores, key=tp.utilidad)\n",
    "        seleccionados.append(ganador)\n",
    "    \n",
    "    # Cruce uniforme\n",
    "    descendencia = []\n",
    "    for _ in range(len(poblacion) // 2):\n",
    "        padre1 = random.choice(seleccionados)\n",
    "        padre2 = random.choice(seleccionados)\n",
    "        hijo1 = []\n",
    "        hijo2 = []\n",
    "        for i in range(len(padre1)):\n",
    "            if random.random() < 0.5:  # Probabilidad de cruce\n",
    "                hijo1.append(padre1[i])\n",
    "                hijo2.append(padre2[i])\n",
    "            else:\n",
    "                hijo1.append(padre2[i])\n",
    "                hijo2.append(padre1[i])\n",
    "        descendencia.extend([hijo1, hijo2])\n",
    "    \n",
    "    # Mutación uniforme\n",
    "    for individuo in descendencia:\n",
    "        if random.random() < 0.1:  # Probabilidad de mutación\n",
    "            bit_a_mutar = random.randint(0, len(individuo) - 1)\n",
    "            individuo[bit_a_mutar] = random.randint(500, 1000)  # Cambio de bit\n",
    "    \n",
    "    # Actualización de la población\n",
    "    poblacion = descendencia\n",
    "\n",
    "# Mejor solución\n",
    "mejor_solucion = max(poblacion, key=tp.utilidad)\n",
    "print(f\"La mejor solución es: {mejor_solucion} con una utilidad de: {tp.utilidad(mejor_solucion)}\")"
   ],
   "id": "7fbe0a4d2bae22b7",
   "outputs": [
    {
     "name": "stdout",
     "output_type": "stream",
     "text": [
      "La mejor solución es: [788, 1, 1, 0, 1] con una utilidad de: 82750000\n"
     ]
    }
   ],
   "execution_count": 4
  },
  {
   "metadata": {},
   "cell_type": "markdown",
   "source": [
    "Algunas veces la solucion es: <code>[1, 0, 0, 1, 1]</code> con una utilidad de: 70110000<br>\n",
    "Otras veces la solucion es la misma del algoritmo genetico: <code>[0, 1, 1, 0, 1]</br> con una utilidad de: 82750000<br>"
   ],
   "id": "49bc858d9456766b"
  },
  {
   "metadata": {},
   "cell_type": "markdown",
   "source": "",
   "id": "a0cb9fd7bc318f0a"
  }
 ],
 "metadata": {
  "kernelspec": {
   "display_name": "Python 3",
   "language": "python",
   "name": "python3"
  },
  "language_info": {
   "codemirror_mode": {
    "name": "ipython",
    "version": 2
   },
   "file_extension": ".py",
   "mimetype": "text/x-python",
   "name": "python",
   "nbconvert_exporter": "python",
   "pygments_lexer": "ipython2",
   "version": "2.7.6"
  }
 },
 "nbformat": 4,
 "nbformat_minor": 5
}
